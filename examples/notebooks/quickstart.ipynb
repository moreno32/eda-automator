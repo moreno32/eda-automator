{
 "cells": [
  {
   "cell_type": "markdown",
   "metadata": {},
   "source": [
    "# EDA Automator Quick Start Guide\n",
    "\n",
    "This notebook demonstrates the basic functionality of the EDA Automator library."
   ]
  },
  {
   "cell_type": "markdown",
   "metadata": {},
   "source": [
    "## 1. Installation\n",
    "\n",
    "First, let's make sure we have EDA Automator installed:"
   ]
  },
  {
   "cell_type": "code",
   "execution_count": null,
   "metadata": {},
   "outputs": [],
   "source": [
    "# Uncomment to install if needed\n",
    "# !pip install eda-automator"
   ]
  },
  {
   "cell_type": "markdown",
   "metadata": {},
   "source": [
    "## 2. Import Libraries"
   ]
  },
  {
   "cell_type": "code",
   "execution_count": 6,
   "metadata": {},
   "outputs": [
    {
     "ename": "ModuleNotFoundError",
     "evalue": "No module named 'eda_automator'",
     "output_type": "error",
     "traceback": [
      "\u001b[1;31m---------------------------------------------------------------------------\u001b[0m",
      "\u001b[1;31mModuleNotFoundError\u001b[0m                       Traceback (most recent call last)",
      "Cell \u001b[1;32mIn[6], line 5\u001b[0m\n\u001b[0;32m      2\u001b[0m \u001b[38;5;28;01mimport\u001b[39;00m\u001b[38;5;250m \u001b[39m\u001b[38;5;21;01mnumpy\u001b[39;00m\u001b[38;5;250m \u001b[39m\u001b[38;5;28;01mas\u001b[39;00m\u001b[38;5;250m \u001b[39m\u001b[38;5;21;01mnp\u001b[39;00m\n\u001b[0;32m      3\u001b[0m \u001b[38;5;28;01mimport\u001b[39;00m\u001b[38;5;250m \u001b[39m\u001b[38;5;21;01mmatplotlib\u001b[39;00m\u001b[38;5;21;01m.\u001b[39;00m\u001b[38;5;21;01mpyplot\u001b[39;00m\u001b[38;5;250m \u001b[39m\u001b[38;5;28;01mas\u001b[39;00m\u001b[38;5;250m \u001b[39m\u001b[38;5;21;01mplt\u001b[39;00m\n\u001b[1;32m----> 5\u001b[0m \u001b[38;5;28;01mfrom\u001b[39;00m\u001b[38;5;250m \u001b[39m\u001b[38;5;21;01meda_automator\u001b[39;00m\u001b[38;5;250m \u001b[39m\u001b[38;5;28;01mimport\u001b[39;00m EDAAutomator\n\u001b[0;32m      7\u001b[0m \u001b[38;5;66;03m# Set matplotlib to display plots inline\u001b[39;00m\n\u001b[0;32m      8\u001b[0m get_ipython()\u001b[38;5;241m.\u001b[39mrun_line_magic(\u001b[38;5;124m'\u001b[39m\u001b[38;5;124mmatplotlib\u001b[39m\u001b[38;5;124m'\u001b[39m, \u001b[38;5;124m'\u001b[39m\u001b[38;5;124minline\u001b[39m\u001b[38;5;124m'\u001b[39m)\n",
      "\u001b[1;31mModuleNotFoundError\u001b[0m: No module named 'eda_automator'"
     ]
    }
   ],
   "source": [
    "import pandas as pd\n",
    "import numpy as np\n",
    "import matplotlib.pyplot as plt\n",
    "\n",
    "from eda_automator import EDAAutomator\n",
    "\n",
    "# Set matplotlib to display plots inline\n",
    "%matplotlib inline"
   ]
  },
  {
   "cell_type": "markdown",
   "metadata": {},
   "source": [
    "## 3. Create Sample Dataset\n",
    "\n",
    "Let's create a sample dataset for demonstration purposes:"
   ]
  },
  {
   "cell_type": "code",
   "execution_count": 4,
   "metadata": {},
   "outputs": [
    {
     "data": {
      "text/html": [
       "<div>\n",
       "<style scoped>\n",
       "    .dataframe tbody tr th:only-of-type {\n",
       "        vertical-align: middle;\n",
       "    }\n",
       "\n",
       "    .dataframe tbody tr th {\n",
       "        vertical-align: top;\n",
       "    }\n",
       "\n",
       "    .dataframe thead th {\n",
       "        text-align: right;\n",
       "    }\n",
       "</style>\n",
       "<table border=\"1\" class=\"dataframe\">\n",
       "  <thead>\n",
       "    <tr style=\"text-align: right;\">\n",
       "      <th></th>\n",
       "      <th>age</th>\n",
       "      <th>income</th>\n",
       "      <th>education</th>\n",
       "      <th>satisfaction</th>\n",
       "      <th>customer_segment</th>\n",
       "      <th>churn</th>\n",
       "    </tr>\n",
       "  </thead>\n",
       "  <tbody>\n",
       "    <tr>\n",
       "      <th>0</th>\n",
       "      <td>39</td>\n",
       "      <td>91941.767624</td>\n",
       "      <td>Bachelor</td>\n",
       "      <td>2</td>\n",
       "      <td>B</td>\n",
       "      <td>0</td>\n",
       "    </tr>\n",
       "    <tr>\n",
       "      <th>1</th>\n",
       "      <td>33</td>\n",
       "      <td>78405.888746</td>\n",
       "      <td>Master</td>\n",
       "      <td>3</td>\n",
       "      <td>C</td>\n",
       "      <td>0</td>\n",
       "    </tr>\n",
       "    <tr>\n",
       "      <th>2</th>\n",
       "      <td>41</td>\n",
       "      <td>59816.514241</td>\n",
       "      <td>Bachelor</td>\n",
       "      <td>4</td>\n",
       "      <td>C</td>\n",
       "      <td>0</td>\n",
       "    </tr>\n",
       "    <tr>\n",
       "      <th>3</th>\n",
       "      <td>50</td>\n",
       "      <td>48367.627055</td>\n",
       "      <td>Master</td>\n",
       "      <td>4</td>\n",
       "      <td>B</td>\n",
       "      <td>0</td>\n",
       "    </tr>\n",
       "    <tr>\n",
       "      <th>4</th>\n",
       "      <td>32</td>\n",
       "      <td>60592.929706</td>\n",
       "      <td>Master</td>\n",
       "      <td>4</td>\n",
       "      <td>C</td>\n",
       "      <td>0</td>\n",
       "    </tr>\n",
       "  </tbody>\n",
       "</table>\n",
       "</div>"
      ],
      "text/plain": [
       "   age        income education  satisfaction customer_segment  churn\n",
       "0   39  91941.767624  Bachelor             2                B      0\n",
       "1   33  78405.888746    Master             3                C      0\n",
       "2   41  59816.514241  Bachelor             4                C      0\n",
       "3   50  48367.627055    Master             4                B      0\n",
       "4   32  60592.929706    Master             4                C      0"
      ]
     },
     "execution_count": 4,
     "metadata": {},
     "output_type": "execute_result"
    }
   ],
   "source": [
    "# Set random seed for reproducibility\n",
    "np.random.seed(42)\n",
    "\n",
    "# Create a sample dataset\n",
    "data = {\n",
    "    'age': np.random.normal(35, 10, 1000).astype(int),\n",
    "    'income': np.random.lognormal(10.5, 0.5, 1000),\n",
    "    'education': np.random.choice(['High School', 'Bachelor', 'Master', 'PhD'], 1000),\n",
    "    'satisfaction': np.random.choice([1, 2, 3, 4, 5], 1000),\n",
    "    'customer_segment': np.random.choice(['A', 'B', 'C'], 1000),\n",
    "    'churn': np.random.choice([0, 1], 1000, p=[0.8, 0.2]),\n",
    "}\n",
    "\n",
    "# Create a pandas DataFrame\n",
    "df = pd.DataFrame(data)\n",
    "\n",
    "# Add some correlations\n",
    "df['income'] = df['income'] + df['age'] * 500 + np.random.normal(0, 5000, 1000)\n",
    "df['satisfaction'] = 5 - np.random.binomial(4, 0.3 + 0.4 * df['churn'])\n",
    "\n",
    "# Add some missing values\n",
    "mask = np.random.random(1000) < 0.05\n",
    "df.loc[mask, 'income'] = np.nan\n",
    "\n",
    "mask = np.random.random(1000) < 0.02\n",
    "df.loc[mask, 'education'] = np.nan\n",
    "\n",
    "# Display the first few rows\n",
    "df.head()"
   ]
  },
  {
   "cell_type": "markdown",
   "metadata": {},
   "source": [
    "## 4. Basic EDA with EDA Automator\n",
    "\n",
    "Now, let's initialize the EDA Automator with our sample dataset:"
   ]
  },
  {
   "cell_type": "code",
   "execution_count": 5,
   "metadata": {},
   "outputs": [
    {
     "ename": "NameError",
     "evalue": "name 'EDAAutomator' is not defined",
     "output_type": "error",
     "traceback": [
      "\u001b[1;31m---------------------------------------------------------------------------\u001b[0m",
      "\u001b[1;31mNameError\u001b[0m                                 Traceback (most recent call last)",
      "Cell \u001b[1;32mIn[5], line 2\u001b[0m\n\u001b[0;32m      1\u001b[0m \u001b[38;5;66;03m# Initialize EDA Automator with the dataset and specify the target variable\u001b[39;00m\n\u001b[1;32m----> 2\u001b[0m automator \u001b[38;5;241m=\u001b[39m \u001b[43mEDAAutomator\u001b[49m(df, target_variable\u001b[38;5;241m=\u001b[39m\u001b[38;5;124m'\u001b[39m\u001b[38;5;124mchurn\u001b[39m\u001b[38;5;124m'\u001b[39m)\n\u001b[0;32m      4\u001b[0m \u001b[38;5;66;03m# Print the configuration\u001b[39;00m\n\u001b[0;32m      5\u001b[0m \u001b[38;5;28mprint\u001b[39m(\u001b[38;5;124m\"\u001b[39m\u001b[38;5;124mConfiguration:\u001b[39m\u001b[38;5;124m\"\u001b[39m)\n",
      "\u001b[1;31mNameError\u001b[0m: name 'EDAAutomator' is not defined"
     ]
    }
   ],
   "source": [
    "# Initialize EDA Automator with the dataset and specify the target variable\n",
    "automator = EDAAutomator(df, target_variable='churn')\n",
    "\n",
    "# Print the configuration\n",
    "print(\"Configuration:\")\n",
    "automator.print_config()"
   ]
  },
  {
   "cell_type": "markdown",
   "metadata": {},
   "source": [
    "### 4.1 Data Quality Assessment\n",
    "\n",
    "Let's start by checking the quality of our data:"
   ]
  },
  {
   "cell_type": "code",
   "execution_count": null,
   "metadata": {},
   "outputs": [],
   "source": [
    "# Run data quality analysis\n",
    "quality_results = automator.run_data_quality_analysis()\n",
    "\n",
    "# Print a summary of the quality assessment\n",
    "print(quality_results['summary'])\n",
    "\n",
    "# Display missing values information\n",
    "quality_results['missing_data']['missing_table']"
   ]
  },
  {
   "cell_type": "markdown",
   "metadata": {},
   "source": [
    "### 4.2 Statistical Analysis\n",
    "\n",
    "Now, let's perform some statistical analysis:"
   ]
  },
  {
   "cell_type": "code",
   "execution_count": null,
   "metadata": {},
   "outputs": [],
   "source": [
    "# Run statistical analysis\n",
    "stats_results = automator.run_statistical_analysis()\n",
    "\n",
    "# Display descriptive statistics\n",
    "stats_results['descriptive_stats']"
   ]
  },
  {
   "cell_type": "markdown",
   "metadata": {},
   "source": [
    "### 4.3 Univariate Analysis\n",
    "\n",
    "Let's examine each variable individually:"
   ]
  },
  {
   "cell_type": "code",
   "execution_count": null,
   "metadata": {},
   "outputs": [],
   "source": [
    "# Run univariate analysis\n",
    "univariate_results = automator.run_univariate_analysis()\n",
    "\n",
    "# Display distribution of a numeric variable\n",
    "plt.figure(figsize=(10, 6))\n",
    "plt.subplot(121)\n",
    "plt.title(\"Age Distribution\")\n",
    "univariate_results['numerical_plots']['age'].set_size_inches(8, 6)\n",
    "plt.subplot(122)\n",
    "plt.title(\"Income Distribution\")\n",
    "univariate_results['numerical_plots']['income'].set_size_inches(8, 6)\n",
    "plt.tight_layout()"
   ]
  },
  {
   "cell_type": "markdown",
   "metadata": {},
   "source": [
    "### 4.4 Bivariate Analysis\n",
    "\n",
    "Now, let's look at relationships between variables:"
   ]
  },
  {
   "cell_type": "code",
   "execution_count": null,
   "metadata": {},
   "outputs": [],
   "source": [
    "# Run bivariate analysis\n",
    "bivariate_results = automator.run_bivariate_analysis()\n",
    "\n",
    "# Display correlation matrix\n",
    "bivariate_results['correlation_plot']"
   ]
  },
  {
   "cell_type": "markdown",
   "metadata": {},
   "source": [
    "### 4.5 Multivariate Analysis\n",
    "\n",
    "Let's explore more complex relationships:"
   ]
  },
  {
   "cell_type": "code",
   "execution_count": null,
   "metadata": {},
   "outputs": [],
   "source": [
    "# Run multivariate analysis\n",
    "multivariate_results = automator.run_multivariate_analysis()\n",
    "\n",
    "# Display PCA results\n",
    "if 'pca_plot' in multivariate_results:\n",
    "    multivariate_results['pca_plot']"
   ]
  },
  {
   "cell_type": "markdown",
   "metadata": {},
   "source": [
    "## 5. Generate a Complete Report\n",
    "\n",
    "Finally, let's generate a comprehensive report:"
   ]
  },
  {
   "cell_type": "code",
   "execution_count": null,
   "metadata": {},
   "outputs": [],
   "source": [
    "# Run full analysis and generate HTML report\n",
    "automator.run_full_analysis()\n",
    "report_path = \"customer_data_analysis.html\"\n",
    "automator.generate_report(report_path, format=\"html\")\n",
    "\n",
    "print(f\"Report generated: {report_path}\")"
   ]
  },
  {
   "cell_type": "markdown",
   "metadata": {},
   "source": [
    "## 6. Customizing the Analysis\n",
    "\n",
    "You can customize various aspects of the analysis:"
   ]
  },
  {
   "cell_type": "code",
   "execution_count": null,
   "metadata": {},
   "outputs": [],
   "source": [
    "# Custom configuration\n",
    "custom_config = {\n",
    "    'missing_threshold': 0.1,            # Mark columns with >10% missing values\n",
    "    'outlier_method': 'iqr',             # Use IQR for outlier detection\n",
    "    'outlier_threshold': 1.5,            # Use 1.5*IQR as outlier threshold\n",
    "    'sampling_threshold': 500,           # Sample data if rows exceed 500\n",
    "    'correlation_method': 'spearman',    # Use Spearman correlation\n",
    "    'palette_type': 'categorical'        # Use categorical color palette\n",
    "}\n",
    "\n",
    "# Initialize EDA Automator with custom configuration\n",
    "custom_automator = EDAAutomator(df, target_variable='churn', **custom_config)\n",
    "\n",
    "# Run analysis with custom configuration\n",
    "custom_results = custom_automator.run_full_analysis()\n",
    "custom_automator.generate_report(\"custom_analysis.html\", format=\"html\")\n",
    "\n",
    "print(\"Custom analysis complete!\")"
   ]
  }
 ],
 "metadata": {
  "kernelspec": {
   "display_name": "Python 3",
   "language": "python",
   "name": "python3"
  },
  "language_info": {
   "codemirror_mode": {
    "name": "ipython",
    "version": 3
   },
   "file_extension": ".py",
   "mimetype": "text/x-python",
   "name": "python",
   "nbconvert_exporter": "python",
   "pygments_lexer": "ipython3",
   "version": "3.9.21"
  }
 },
 "nbformat": 4,
 "nbformat_minor": 4
}
